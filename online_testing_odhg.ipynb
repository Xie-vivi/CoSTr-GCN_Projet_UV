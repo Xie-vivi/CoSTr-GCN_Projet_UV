{
 "cells": [
  {
   "cell_type": "code",
   "execution_count": null,
   "id": "aafe2e15",
   "metadata": {},
   "outputs": [],
   "source": [
    "!pip install -r ../requirements.txt"
   ]
  },
  {
   "attachments": {},
   "cell_type": "markdown",
   "id": "77f5ff02",
   "metadata": {},
   "source": [
    "### Imports"
   ]
  },
  {
   "cell_type": "code",
   "execution_count": 1,
   "id": "95896aba",
   "metadata": {},
   "outputs": [
    {
     "name": "stderr",
     "output_type": "stream",
     "text": [
      "c:\\Users\\Wael\\AppData\\Local\\Programs\\Python\\Python39\\lib\\site-packages\\tqdm\\auto.py:22: TqdmWarning: IProgress not found. Please update jupyter and ipywidgets. See https://ipywidgets.readthedocs.io/en/stable/user_install.html\n",
      "  from .autonotebook import tqdm as notebook_tqdm\n"
     ]
    },
    {
     "name": "stdout",
     "output_type": "stream",
     "text": [
      "The Zen of Python, by Tim Peters\n",
      "\n",
      "Beautiful is better than ugly.\n",
      "Explicit is better than implicit.\n",
      "Simple is better than complex.\n",
      "Complex is better than complicated.\n",
      "Flat is better than nested.\n",
      "Sparse is better than dense.\n",
      "Readability counts.\n",
      "Special cases aren't special enough to break the rules.\n",
      "Although practicality beats purity.\n",
      "Errors should never pass silently.\n",
      "Unless explicitly silenced.\n",
      "In the face of ambiguity, refuse the temptation to guess.\n",
      "There should be one-- and preferably only one --obvious way to do it.\n",
      "Although that way may not be obvious at first unless you're Dutch.\n",
      "Now is better than never.\n",
      "Although never is often better than *right* now.\n",
      "If the implementation is hard to explain, it's a bad idea.\n",
      "If the implementation is easy to explain, it may be a good idea.\n",
      "Namespaces are one honking great idea -- let's do more of those!\n"
     ]
    }
   ],
   "source": [
    "import torch\n",
    "from utils import online_test_loop"
   ]
  },
  {
   "attachments": {},
   "cell_type": "markdown",
   "id": "3b7768ae",
   "metadata": {},
   "source": [
    "### Define params"
   ]
  },
  {
   "cell_type": "code",
   "execution_count": 2,
   "id": "4f936900",
   "metadata": {},
   "outputs": [],
   "source": [
    "device = torch.device('cuda')\n",
    "\n",
    "# model params\n",
    "window_size = 50\n",
    "memory_size = 50\n",
    "stride = 5\n",
    "input_shape = (memory_size, 20, 3)\n",
    "num_classes = 18\n",
    "\n",
    "#  change this if you train a new model with other hyperparams\n",
    "num_heads = 8\n",
    "d_model = 128\n",
    "n_heads = 8\n",
    "dropout_rate = .3\n",
    "dataset_name = \"ODHG\"\n",
    "\n",
    "model_path = f\"models\\\\CoSTrGCN-model\\\\{dataset_name}\\\\best_model-128-8-v1.ckpt\""
   ]
  },
  {
   "attachments": {},
   "cell_type": "markdown",
   "id": "ec08cd1d",
   "metadata": {},
   "source": [
    "### Testing loop"
   ]
  },
  {
   "cell_type": "code",
   "execution_count": null,
   "id": "b77a3491",
   "metadata": {},
   "outputs": [],
   "source": [
    "online_test_loop(   model_path,\n",
    "                    window_size,\n",
    "                    dataset_name,\n",
    "                    num_classes,\n",
    "                    stride,\n",
    "                    memory_size,\n",
    "                    dropout_rate,\n",
    "                    d_model,\n",
    "                    num_heads\n",
    "                    )"
   ]
  }
 ],
 "metadata": {
  "kernelspec": {
   "display_name": "base",
   "language": "python",
   "name": "python3"
  },
  "language_info": {
   "codemirror_mode": {
    "name": "ipython",
    "version": 3
   },
   "file_extension": ".py",
   "mimetype": "text/x-python",
   "name": "python",
   "nbconvert_exporter": "python",
   "pygments_lexer": "ipython3",
   "version": "3.8.2 (default, Mar 26 2020, 10:43:30) \n[Clang 4.0.1 (tags/RELEASE_401/final)]"
  },
  "vscode": {
   "interpreter": {
    "hash": "e84d36fea9bb7168ec52ba4b2cced9e0716675f4aa44d2e66f414a9cb918fe0f"
   }
  }
 },
 "nbformat": 4,
 "nbformat_minor": 5
}
